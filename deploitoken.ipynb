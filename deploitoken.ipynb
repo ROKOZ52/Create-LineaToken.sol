{
 "cells": [
  {
   "cell_type": "code",
   "execution_count": null,
   "metadata": {},
   "outputs": [],
   "source": [
    "// SPDX-License-Identifier: MIT\n",
    "pragma solidity ^0.8.0;\n",
    "\n",
    "import \"@openzeppelin/contracts/token/ERC20/ERC20.sol\";\n",
    "\n",
    "contract CryptonToken is ERC20 {\n",
    "    constructor() ERC20(\"KCInvest\", \"KCI\") { //значения KCInvest та KCI ви можете обрати свої\n",
    "        uint256 power = 10 ** 18; //кількість символів після крапки\n",
    "        _mint(msg.sender, 1000 * power); // 10000 токенов KCI\n",
    "    }\n",
    "}\n"
   ]
  }
 ],
 "metadata": {
  "language_info": {
   "name": "python"
  },
  "orig_nbformat": 4
 },
 "nbformat": 4,
 "nbformat_minor": 2
}
